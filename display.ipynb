{
 "cells": [
  {
   "cell_type": "code",
   "execution_count": 1,
   "metadata": {},
   "outputs": [],
   "source": [
    "import cv2\n",
    "import os\n",
    "import pandas as pd\n",
    "from matplotlib import pyplot as plt"
   ]
  },
  {
   "cell_type": "code",
   "execution_count": 2,
   "metadata": {},
   "outputs": [],
   "source": [
    "base_dir = '/media/htic/NewVolume3/Balamurali/baby_project/fovea-ets/multi-modality_images'\n",
    "test_csvpath = '/media/htic/NewVolume3/Balamurali/baby_project/fovea-ets/test.csv'\n",
    "pos_gt_csvpath = '/media/htic/NewVolume3/Balamurali/baby_project/fovea-ets/fovea_localization_training_GT.csv'\n",
    "pos_pred_csvpath = '/media/htic/NewVolume3/Balamurali/baby_project/fovea-ets/experiments/resnet34/result.csv'\n",
    "save_dir = '/media/htic/NewVolume3/Balamurali/baby_project/fovea-ets/experiments/resnet34/figures'"
   ]
  },
  {
   "cell_type": "code",
   "execution_count": 3,
   "metadata": {},
   "outputs": [],
   "source": [
    "df = pd.read_csv(test_csvpath)\n",
    "fnames = df.data.to_list()"
   ]
  },
  {
   "cell_type": "code",
   "execution_count": 4,
   "metadata": {},
   "outputs": [],
   "source": [
    "df = pd.read_csv(pos_gt_csvpath)\n",
    "gt_xvals = df.x.to_list()\n",
    "gt_yvals = df.y.to_list()"
   ]
  },
  {
   "cell_type": "code",
   "execution_count": 5,
   "metadata": {},
   "outputs": [],
   "source": [
    "df = pd.read_csv(pos_pred_csvpath)"
   ]
  },
  {
   "cell_type": "code",
   "execution_count": 6,
   "metadata": {},
   "outputs": [],
   "source": [
    "for ind in fnames:\n",
    "    \n",
    "    fname = \"{0:04}\".format(ind)\n",
    "    fpath = os.path.join(base_dir, fname, \"{}.jpg\".format(fname))\n",
    "    save_path = os.path.join(save_dir, \"{}.jpg\".format(fname))\n",
    "    \n",
    "    img = cv2.imread(fpath)\n",
    "    \n",
    "    gt_x, gt_y = gt_xvals[ind-1], gt_yvals[ind-1]\n",
    "    pred_x, pred_y = df.loc[df['fname'] == ind].x.item(), df.loc[df['fname'] == ind].y.item()\n",
    "    \n",
    "#     print (gt_x, gt_y)\n",
    "#     print (pred_x, pred_y)\n",
    "\n",
    "    cv2.drawMarker(img, (int(gt_x),int(gt_y)), color=(0,255,0), markerSize = 50, \n",
    "                   markerType=cv2.MARKER_CROSS, thickness=5)\n",
    "    cv2.drawMarker(img, (int(pred_x),int(pred_y)), color=(255,0,0), markerSize = 50, \n",
    "                   markerType=cv2.MARKER_CROSS, thickness=5)\n",
    "    \n",
    "#     plt.figure(figsize=(10,10))\n",
    "#     plt.imshow(cv2.cvtColor(img,cv2.COLOR_BGR2RGB))\n",
    "    cv2.imwrite(save_path, img)\n",
    "    \n",
    "#     break"
   ]
  }
 ],
 "metadata": {
  "kernelspec": {
   "display_name": "Python 3",
   "language": "python",
   "name": "python3"
  },
  "language_info": {
   "codemirror_mode": {
    "name": "ipython",
    "version": 3
   },
   "file_extension": ".py",
   "mimetype": "text/x-python",
   "name": "python",
   "nbconvert_exporter": "python",
   "pygments_lexer": "ipython3",
   "version": "3.6.12"
  }
 },
 "nbformat": 4,
 "nbformat_minor": 2
}
